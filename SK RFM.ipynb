{
 "cells": [
  {
   "cell_type": "code",
   "execution_count": 1,
   "metadata": {},
   "outputs": [],
   "source": [
    "import pandas as pd\n",
    "import numpy as np"
   ]
  },
  {
   "cell_type": "code",
   "execution_count": 5,
   "metadata": {
    "scrolled": true
   },
   "outputs": [
    {
     "data": {
      "text/html": [
       "<div>\n",
       "<style scoped>\n",
       "    .dataframe tbody tr th:only-of-type {\n",
       "        vertical-align: middle;\n",
       "    }\n",
       "\n",
       "    .dataframe tbody tr th {\n",
       "        vertical-align: top;\n",
       "    }\n",
       "\n",
       "    .dataframe thead th {\n",
       "        text-align: right;\n",
       "    }\n",
       "</style>\n",
       "<table border=\"1\" class=\"dataframe\">\n",
       "  <thead>\n",
       "    <tr style=\"text-align: right;\">\n",
       "      <th></th>\n",
       "      <th>advertising_id</th>\n",
       "      <th>recency</th>\n",
       "      <th>frequency</th>\n",
       "      <th>monetary</th>\n",
       "    </tr>\n",
       "  </thead>\n",
       "  <tbody>\n",
       "    <tr>\n",
       "      <td>0</td>\n",
       "      <td>853b8f31-bbf9-4344-aa97-b381b407ff22</td>\n",
       "      <td>38</td>\n",
       "      <td>41</td>\n",
       "      <td>NaN</td>\n",
       "    </tr>\n",
       "    <tr>\n",
       "      <td>1</td>\n",
       "      <td>4407acad-533d-4d5f-be42-7039591c9e2d</td>\n",
       "      <td>9</td>\n",
       "      <td>574</td>\n",
       "      <td>NaN</td>\n",
       "    </tr>\n",
       "    <tr>\n",
       "      <td>2</td>\n",
       "      <td>98597eca-ffea-49e2-a761-cc583a5b8090</td>\n",
       "      <td>13</td>\n",
       "      <td>50</td>\n",
       "      <td>NaN</td>\n",
       "    </tr>\n",
       "    <tr>\n",
       "      <td>3</td>\n",
       "      <td>b440816c-693d-4862-af08-2693555ef3d2</td>\n",
       "      <td>2</td>\n",
       "      <td>24</td>\n",
       "      <td>NaN</td>\n",
       "    </tr>\n",
       "    <tr>\n",
       "      <td>4</td>\n",
       "      <td>b913c147-e1d2-4ee5-b880-3d53c3030d24</td>\n",
       "      <td>32</td>\n",
       "      <td>149</td>\n",
       "      <td>NaN</td>\n",
       "    </tr>\n",
       "  </tbody>\n",
       "</table>\n",
       "</div>"
      ],
      "text/plain": [
       "                         advertising_id  recency  frequency  monetary\n",
       "0  853b8f31-bbf9-4344-aa97-b381b407ff22       38         41       NaN\n",
       "1  4407acad-533d-4d5f-be42-7039591c9e2d        9        574       NaN\n",
       "2  98597eca-ffea-49e2-a761-cc583a5b8090       13         50       NaN\n",
       "3  b440816c-693d-4862-af08-2693555ef3d2        2         24       NaN\n",
       "4  b913c147-e1d2-4ee5-b880-3d53c3030d24       32        149       NaN"
      ]
     },
     "execution_count": 5,
     "metadata": {},
     "output_type": "execute_result"
    }
   ],
   "source": [
    "df = pd.read_csv(\"sk rfm.csv\")\n",
    "df.head()"
   ]
  },
  {
   "cell_type": "code",
   "execution_count": 6,
   "metadata": {},
   "outputs": [
    {
     "name": "stdout",
     "output_type": "stream",
     "text": [
      "<class 'pandas.core.frame.DataFrame'>\n",
      "RangeIndex: 54345 entries, 0 to 54344\n",
      "Data columns (total 4 columns):\n",
      "advertising_id    54345 non-null object\n",
      "recency           54345 non-null int64\n",
      "frequency         54345 non-null int64\n",
      "monetary          65 non-null float64\n",
      "dtypes: float64(1), int64(2), object(1)\n",
      "memory usage: 1.7+ MB\n"
     ]
    }
   ],
   "source": [
    "df.info()"
   ]
  },
  {
   "cell_type": "code",
   "execution_count": 7,
   "metadata": {},
   "outputs": [],
   "source": [
    "df[\"r\"] = pd.qcut(df.recency, q = 5, labels = range(5,0,-1))\n",
    "df[\"f\"] = pd.qcut(df.frequency, q = 5, labels = range(1,6))"
   ]
  },
  {
   "cell_type": "code",
   "execution_count": 8,
   "metadata": {
    "scrolled": true
   },
   "outputs": [],
   "source": [
    "df[[\"r\", \"f\"]] = df[[\"r\", \"f\"]].astype(int)"
   ]
  },
  {
   "cell_type": "code",
   "execution_count": 9,
   "metadata": {},
   "outputs": [
    {
     "data": {
      "text/plain": [
       "r\n",
       "1    39.697019\n",
       "2    26.960487\n",
       "3    20.099874\n",
       "4    12.959919\n",
       "5     4.823584\n",
       "Name: recency, dtype: float64"
      ]
     },
     "execution_count": 9,
     "metadata": {},
     "output_type": "execute_result"
    }
   ],
   "source": [
    "df.groupby(\"r\").recency.mean()"
   ]
  },
  {
   "cell_type": "code",
   "execution_count": 10,
   "metadata": {
    "scrolled": true
   },
   "outputs": [
    {
     "data": {
      "text/plain": [
       "f\n",
       "1     2.332380\n",
       "2     4.000000\n",
       "3     5.825311\n",
       "4     9.590958\n",
       "5    39.157451\n",
       "Name: frequency, dtype: float64"
      ]
     },
     "execution_count": 10,
     "metadata": {},
     "output_type": "execute_result"
    }
   ],
   "source": [
    "df.groupby(\"f\").frequency.mean()"
   ]
  },
  {
   "cell_type": "code",
   "execution_count": 11,
   "metadata": {},
   "outputs": [],
   "source": [
    "df.loc[(df.r <= 2) & (df.f <= 2),\"RFM\"] = \"Hibernating\"\n",
    "df.loc[(df.r == 3) & (df.f <= 2),\"RFM\"] = \"About to Sleep\"\n",
    "df.loc[(df.r == 4) & (df.f == 1),\"RFM\"] = \"Promising\"\n",
    "df.loc[(df.r == 5) & (df.f == 1),\"RFM\"] = \"New Customers\"\n",
    "df.loc[(df.r <= 2) & (df.f >= 3) & (df.f <= 4),\"RFM\"] = \"At Risk\"\n",
    "df.loc[(df.r == 3) & (df.f == 3),\"RFM\"] = \"Need Attention\"\n",
    "df.loc[(df.r >= 4) & (df.f >= 2) & (df.f <= 3),\"RFM\"] = \"Potential Loyalists\"\n",
    "df.loc[(df.r <= 2) & (df.f == 5),\"RFM\"] = \"Cannot Lose Them\"\n",
    "df.loc[(df.r >= 3) & (df.r <= 4) & (df.f >= 4),\"RFM\"] = \"Loyal Customers\"\n",
    "df.loc[(df.r == 5) & (df.f >= 4),\"RFM\"] = \"Champions\""
   ]
  },
  {
   "cell_type": "code",
   "execution_count": 12,
   "metadata": {
    "scrolled": false
   },
   "outputs": [
    {
     "data": {
      "text/plain": [
       "Hibernating            10171\n",
       "At Risk                 8357\n",
       "Loyal Customers         7251\n",
       "Potential Loyalists     7123\n",
       "Champions               5462\n",
       "About to Sleep          4846\n",
       "Promising               2860\n",
       "Cannot Lose Them        2859\n",
       "New Customers           2845\n",
       "Need Attention          2571\n",
       "Name: RFM, dtype: int64"
      ]
     },
     "execution_count": 12,
     "metadata": {},
     "output_type": "execute_result"
    }
   ],
   "source": [
    "df.RFM.value_counts()"
   ]
  },
  {
   "cell_type": "code",
   "execution_count": 15,
   "metadata": {},
   "outputs": [],
   "source": [
    "df.to_csv(\"sk rfm ok.csv\")"
   ]
  },
  {
   "cell_type": "code",
   "execution_count": 14,
   "metadata": {},
   "outputs": [
    {
     "data": {
      "text/plain": [
       "RFM\n",
       "About to Sleep               NaN\n",
       "At Risk                      NaN\n",
       "Cannot Lose Them        4.828615\n",
       "Champions              11.003413\n",
       "Hibernating                  NaN\n",
       "Loyal Customers         5.749709\n",
       "Need Attention               NaN\n",
       "New Customers                NaN\n",
       "Potential Loyalists     5.017216\n",
       "Promising                    NaN\n",
       "Name: monetary, dtype: float64"
      ]
     },
     "execution_count": 14,
     "metadata": {},
     "output_type": "execute_result"
    }
   ],
   "source": [
    "df.groupby(\"RFM\").monetary.mean()"
   ]
  }
 ],
 "metadata": {
  "kernelspec": {
   "display_name": "Python 3",
   "language": "python",
   "name": "python3"
  },
  "language_info": {
   "codemirror_mode": {
    "name": "ipython",
    "version": 3
   },
   "file_extension": ".py",
   "mimetype": "text/x-python",
   "name": "python",
   "nbconvert_exporter": "python",
   "pygments_lexer": "ipython3",
   "version": "3.7.4"
  }
 },
 "nbformat": 4,
 "nbformat_minor": 2
}
