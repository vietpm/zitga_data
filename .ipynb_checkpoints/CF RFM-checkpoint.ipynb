{
 "cells": [
  {
   "cell_type": "code",
   "execution_count": 1,
   "metadata": {},
   "outputs": [],
   "source": [
    "import pandas as pd\n",
    "import numpy as np"
   ]
  },
  {
   "cell_type": "code",
   "execution_count": 2,
   "metadata": {},
   "outputs": [
    {
     "data": {
      "text/html": [
       "<div>\n",
       "<style scoped>\n",
       "    .dataframe tbody tr th:only-of-type {\n",
       "        vertical-align: middle;\n",
       "    }\n",
       "\n",
       "    .dataframe tbody tr th {\n",
       "        vertical-align: top;\n",
       "    }\n",
       "\n",
       "    .dataframe thead th {\n",
       "        text-align: right;\n",
       "    }\n",
       "</style>\n",
       "<table border=\"1\" class=\"dataframe\">\n",
       "  <thead>\n",
       "    <tr style=\"text-align: right;\">\n",
       "      <th></th>\n",
       "      <th>advertising_id</th>\n",
       "      <th>recency</th>\n",
       "      <th>frequency</th>\n",
       "      <th>monetary</th>\n",
       "    </tr>\n",
       "  </thead>\n",
       "  <tbody>\n",
       "    <tr>\n",
       "      <td>0</td>\n",
       "      <td>fd12a0d9-b570-44c8-af9e-1f40c7337310</td>\n",
       "      <td>1</td>\n",
       "      <td>126</td>\n",
       "      <td>NaN</td>\n",
       "    </tr>\n",
       "    <tr>\n",
       "      <td>1</td>\n",
       "      <td>da96a5bb-986a-4ea5-b3cf-1a510fce7bce</td>\n",
       "      <td>1</td>\n",
       "      <td>480</td>\n",
       "      <td>0.990728</td>\n",
       "    </tr>\n",
       "    <tr>\n",
       "      <td>2</td>\n",
       "      <td>a21fb4ed-904a-43a9-a983-ed5d510d2b11</td>\n",
       "      <td>1</td>\n",
       "      <td>421</td>\n",
       "      <td>NaN</td>\n",
       "    </tr>\n",
       "    <tr>\n",
       "      <td>3</td>\n",
       "      <td>73bcad50-6f8e-4532-8ee3-4dfcfb8919b0</td>\n",
       "      <td>1</td>\n",
       "      <td>170</td>\n",
       "      <td>NaN</td>\n",
       "    </tr>\n",
       "    <tr>\n",
       "      <td>4</td>\n",
       "      <td>b318aa46-aab5-4616-b4d0-0b3866124569</td>\n",
       "      <td>1</td>\n",
       "      <td>283</td>\n",
       "      <td>NaN</td>\n",
       "    </tr>\n",
       "  </tbody>\n",
       "</table>\n",
       "</div>"
      ],
      "text/plain": [
       "                         advertising_id  recency  frequency  monetary\n",
       "0  fd12a0d9-b570-44c8-af9e-1f40c7337310        1        126       NaN\n",
       "1  da96a5bb-986a-4ea5-b3cf-1a510fce7bce        1        480  0.990728\n",
       "2  a21fb4ed-904a-43a9-a983-ed5d510d2b11        1        421       NaN\n",
       "3  73bcad50-6f8e-4532-8ee3-4dfcfb8919b0        1        170       NaN\n",
       "4  b318aa46-aab5-4616-b4d0-0b3866124569        1        283       NaN"
      ]
     },
     "execution_count": 2,
     "metadata": {},
     "output_type": "execute_result"
    }
   ],
   "source": [
    "df = pd.read_csv(\"cf rfm.csv\")\n",
    "df.head()"
   ]
  },
  {
   "cell_type": "code",
   "execution_count": 13,
   "metadata": {},
   "outputs": [],
   "source": [
    "df[\"r\"] = pd.qcut(df.recency, q = 5, labels = range(5,0,-1))\n",
    "df[\"f\"] = pd.qcut(df.frequency, q = 5, labels = range(1,6))"
   ]
  },
  {
   "cell_type": "code",
   "execution_count": 35,
   "metadata": {
    "scrolled": true
   },
   "outputs": [],
   "source": [
    "df[[\"r\", \"f\"]] = df[[\"r\", \"f\"]].astype(int)"
   ]
  },
  {
   "cell_type": "code",
   "execution_count": 21,
   "metadata": {},
   "outputs": [
    {
     "data": {
      "text/plain": [
       "r\n",
       "5     2.742806\n",
       "4     8.799033\n",
       "3    16.681030\n",
       "2    28.821869\n",
       "1    44.074693\n",
       "Name: recency, dtype: float64"
      ]
     },
     "execution_count": 21,
     "metadata": {},
     "output_type": "execute_result"
    }
   ],
   "source": [
    "df.groupby(\"r\").recency.mean()"
   ]
  },
  {
   "cell_type": "code",
   "execution_count": 22,
   "metadata": {
    "scrolled": true
   },
   "outputs": [
    {
     "data": {
      "text/plain": [
       "f\n",
       "1     1.923544\n",
       "2     3.000000\n",
       "3     4.800587\n",
       "4     8.998920\n",
       "5    31.826595\n",
       "Name: frequency, dtype: float64"
      ]
     },
     "execution_count": 22,
     "metadata": {},
     "output_type": "execute_result"
    }
   ],
   "source": [
    "df.groupby(\"f\").frequency.mean()"
   ]
  },
  {
   "cell_type": "code",
   "execution_count": 44,
   "metadata": {},
   "outputs": [],
   "source": [
    "df.loc[(df.r <= 2) & (df.f <= 2),\"RFM\"] = \"Hibernating\"\n",
    "df.loc[(df.r == 3) & (df.f <= 2),\"RFM\"] = \"About to Sleep\"\n",
    "df.loc[(df.r == 4) & (df.f == 1),\"RFM\"] = \"Promising\"\n",
    "df.loc[(df.r == 5) & (df.f == 1),\"RFM\"] = \"New Customers\"\n",
    "df.loc[(df.r <= 2) & (df.f >= 3) & (df.f <= 4),\"RFM\"] = \"At Risk\"\n",
    "df.loc[(df.r == 3) & (df.f == 3),\"RFM\"] = \"Need Attention\"\n",
    "df.loc[(df.r >= 4) & (df.f >= 2) & (df.f <= 3),\"RFM\"] = \"Potential Loyalists\"\n",
    "df.loc[(df.r <= 2) & (df.f == 5),\"RFM\"] = \"Cannot Lose Them\"\n",
    "df.loc[(df.r >= 3) & (df.r <= 4) & (df.f >= 4),\"RFM\"] = \"Loyal Customers\"\n",
    "df.loc[(df.r == 5) & (df.f >= 4),\"RFM\"] = \"Champions\""
   ]
  },
  {
   "cell_type": "code",
   "execution_count": 45,
   "metadata": {
    "scrolled": false
   },
   "outputs": [
    {
     "data": {
      "text/plain": [
       "Hibernating            14150\n",
       "At Risk                12403\n",
       "Loyal Customers        11217\n",
       "Potential Loyalists    10934\n",
       "Champions               7789\n",
       "About to Sleep          5532\n",
       "Promising               4316\n",
       "Need Attention          3754\n",
       "Cannot Lose Them        3444\n",
       "New Customers           3097\n",
       "Name: RFM, dtype: int64"
      ]
     },
     "execution_count": 45,
     "metadata": {},
     "output_type": "execute_result"
    }
   ],
   "source": [
    "df.RFM.value_counts()"
   ]
  },
  {
   "cell_type": "code",
   "execution_count": 46,
   "metadata": {},
   "outputs": [],
   "source": [
    "df.to_csv(\"cf rfm ok.csv\")"
   ]
  },
  {
   "cell_type": "code",
   "execution_count": 47,
   "metadata": {},
   "outputs": [
    {
     "data": {
      "text/plain": [
       "RFM\n",
       "About to Sleep         1.033528\n",
       "At Risk                1.399207\n",
       "Cannot Lose Them       2.346750\n",
       "Champions              1.309628\n",
       "Hibernating            0.990000\n",
       "Loyal Customers        3.132114\n",
       "Need Attention              NaN\n",
       "New Customers               NaN\n",
       "Potential Loyalists    0.876297\n",
       "Promising                   NaN\n",
       "Name: monetary, dtype: float64"
      ]
     },
     "execution_count": 47,
     "metadata": {},
     "output_type": "execute_result"
    }
   ],
   "source": [
    "df.groupby(\"RFM\").monetary.mean()"
   ]
  }
 ],
 "metadata": {
  "kernelspec": {
   "display_name": "Python 3",
   "language": "python",
   "name": "python3"
  },
  "language_info": {
   "codemirror_mode": {
    "name": "ipython",
    "version": 3
   },
   "file_extension": ".py",
   "mimetype": "text/x-python",
   "name": "python",
   "nbconvert_exporter": "python",
   "pygments_lexer": "ipython3",
   "version": "3.7.4"
  }
 },
 "nbformat": 4,
 "nbformat_minor": 2
}
