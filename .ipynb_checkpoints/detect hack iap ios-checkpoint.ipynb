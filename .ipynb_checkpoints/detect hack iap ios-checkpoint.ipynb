{
 "cells": [
  {
   "cell_type": "code",
   "execution_count": 2,
   "metadata": {},
   "outputs": [],
   "source": [
    "import pandas as pd\n",
    "import numpy as np\n",
    "import matplotlib.pyplot as plt\n",
    "import seaborn as sns\n",
    "%matplotlib inline"
   ]
  },
  {
   "cell_type": "code",
   "execution_count": 7,
   "metadata": {
    "scrolled": true
   },
   "outputs": [
    {
     "data": {
      "text/html": [
       "<div>\n",
       "<style scoped>\n",
       "    .dataframe tbody tr th:only-of-type {\n",
       "        vertical-align: middle;\n",
       "    }\n",
       "\n",
       "    .dataframe tbody tr th {\n",
       "        vertical-align: top;\n",
       "    }\n",
       "\n",
       "    .dataframe thead th {\n",
       "        text-align: right;\n",
       "    }\n",
       "</style>\n",
       "<table border=\"1\" class=\"dataframe\">\n",
       "  <thead>\n",
       "    <tr style=\"text-align: right;\">\n",
       "      <th></th>\n",
       "      <th>event_date</th>\n",
       "      <th>advertising_id</th>\n",
       "      <th>product_id</th>\n",
       "      <th>rev</th>\n",
       "    </tr>\n",
       "  </thead>\n",
       "  <tbody>\n",
       "    <tr>\n",
       "      <td>0</td>\n",
       "      <td>2019-11-01</td>\n",
       "      <td>27677BC8-1837-42BE-9F2E-58E9BB14A2D6</td>\n",
       "      <td>com.zitga.ninja.stickman.legends.event_shop_cs...</td>\n",
       "      <td>12.233904</td>\n",
       "    </tr>\n",
       "    <tr>\n",
       "      <td>1</td>\n",
       "      <td>2019-11-01</td>\n",
       "      <td>EFBD0208-EE9B-4AB6-982E-A1D7C5ACB04E</td>\n",
       "      <td>com.zitga.ninja.stickman.legends.character_raven</td>\n",
       "      <td>9.990000</td>\n",
       "    </tr>\n",
       "    <tr>\n",
       "      <td>2</td>\n",
       "      <td>2019-11-01</td>\n",
       "      <td>0614B442-7A68-4CBC-B3B6-406CFA2AB5E2</td>\n",
       "      <td>com.zitga.ninja.stickman.legends.limited_saleo...</td>\n",
       "      <td>5.640039</td>\n",
       "    </tr>\n",
       "    <tr>\n",
       "      <td>3</td>\n",
       "      <td>2019-11-01</td>\n",
       "      <td>65FE1944-D547-4F3B-AC37-D9803F5B09FF</td>\n",
       "      <td>com.zitga.ninja.stickman.legends.advance_mage</td>\n",
       "      <td>9.990000</td>\n",
       "    </tr>\n",
       "    <tr>\n",
       "      <td>4</td>\n",
       "      <td>2019-11-01</td>\n",
       "      <td>65FE1944-D547-4F3B-AC37-D9803F5B09FF</td>\n",
       "      <td>com.zitga.ninja.stickman.legends.advance_hason_1</td>\n",
       "      <td>9.990000</td>\n",
       "    </tr>\n",
       "  </tbody>\n",
       "</table>\n",
       "</div>"
      ],
      "text/plain": [
       "   event_date                        advertising_id  \\\n",
       "0  2019-11-01  27677BC8-1837-42BE-9F2E-58E9BB14A2D6   \n",
       "1  2019-11-01  EFBD0208-EE9B-4AB6-982E-A1D7C5ACB04E   \n",
       "2  2019-11-01  0614B442-7A68-4CBC-B3B6-406CFA2AB5E2   \n",
       "3  2019-11-01  65FE1944-D547-4F3B-AC37-D9803F5B09FF   \n",
       "4  2019-11-01  65FE1944-D547-4F3B-AC37-D9803F5B09FF   \n",
       "\n",
       "                                          product_id        rev  \n",
       "0  com.zitga.ninja.stickman.legends.event_shop_cs...  12.233904  \n",
       "1   com.zitga.ninja.stickman.legends.character_raven   9.990000  \n",
       "2  com.zitga.ninja.stickman.legends.limited_saleo...   5.640039  \n",
       "3      com.zitga.ninja.stickman.legends.advance_mage   9.990000  \n",
       "4   com.zitga.ninja.stickman.legends.advance_hason_1   9.990000  "
      ]
     },
     "execution_count": 7,
     "metadata": {},
     "output_type": "execute_result"
    }
   ],
   "source": [
    "df = pd.read_csv(\"data/rev ios t11 t12.csv\")\n",
    "df.head()"
   ]
  },
  {
   "cell_type": "code",
   "execution_count": 11,
   "metadata": {},
   "outputs": [],
   "source": [
    "df[\"event_date\"] = pd.to_datetime(df.event_date)"
   ]
  },
  {
   "cell_type": "code",
   "execution_count": 12,
   "metadata": {
    "scrolled": false
   },
   "outputs": [
    {
     "name": "stdout",
     "output_type": "stream",
     "text": [
      "<class 'pandas.core.frame.DataFrame'>\n",
      "RangeIndex: 16977 entries, 0 to 16976\n",
      "Data columns (total 4 columns):\n",
      "event_date        16977 non-null datetime64[ns]\n",
      "advertising_id    3162 non-null object\n",
      "product_id        16977 non-null object\n",
      "rev               16977 non-null float64\n",
      "dtypes: datetime64[ns](1), float64(1), object(2)\n",
      "memory usage: 530.7+ KB\n"
     ]
    }
   ],
   "source": [
    "df.info()"
   ]
  },
  {
   "cell_type": "code",
   "execution_count": 31,
   "metadata": {},
   "outputs": [],
   "source": [
    "df.advertising_id.fillna(\"None\", inplace = True)"
   ]
  },
  {
   "cell_type": "code",
   "execution_count": 8,
   "metadata": {
    "scrolled": true
   },
   "outputs": [
    {
     "data": {
      "text/html": [
       "<div>\n",
       "<style scoped>\n",
       "    .dataframe tbody tr th:only-of-type {\n",
       "        vertical-align: middle;\n",
       "    }\n",
       "\n",
       "    .dataframe tbody tr th {\n",
       "        vertical-align: top;\n",
       "    }\n",
       "\n",
       "    .dataframe thead th {\n",
       "        text-align: right;\n",
       "    }\n",
       "</style>\n",
       "<table border=\"1\" class=\"dataframe\">\n",
       "  <thead>\n",
       "    <tr style=\"text-align: right;\">\n",
       "      <th></th>\n",
       "      <th>rev</th>\n",
       "    </tr>\n",
       "  </thead>\n",
       "  <tbody>\n",
       "    <tr>\n",
       "      <td>count</td>\n",
       "      <td>16977.000000</td>\n",
       "    </tr>\n",
       "    <tr>\n",
       "      <td>mean</td>\n",
       "      <td>14.111270</td>\n",
       "    </tr>\n",
       "    <tr>\n",
       "      <td>std</td>\n",
       "      <td>18.429651</td>\n",
       "    </tr>\n",
       "    <tr>\n",
       "      <td>min</td>\n",
       "      <td>0.852336</td>\n",
       "    </tr>\n",
       "    <tr>\n",
       "      <td>25%</td>\n",
       "      <td>4.990000</td>\n",
       "    </tr>\n",
       "    <tr>\n",
       "      <td>50%</td>\n",
       "      <td>9.990000</td>\n",
       "    </tr>\n",
       "    <tr>\n",
       "      <td>75%</td>\n",
       "      <td>13.246653</td>\n",
       "    </tr>\n",
       "    <tr>\n",
       "      <td>max</td>\n",
       "      <td>110.250983</td>\n",
       "    </tr>\n",
       "  </tbody>\n",
       "</table>\n",
       "</div>"
      ],
      "text/plain": [
       "                rev\n",
       "count  16977.000000\n",
       "mean      14.111270\n",
       "std       18.429651\n",
       "min        0.852336\n",
       "25%        4.990000\n",
       "50%        9.990000\n",
       "75%       13.246653\n",
       "max      110.250983"
      ]
     },
     "execution_count": 8,
     "metadata": {},
     "output_type": "execute_result"
    }
   ],
   "source": [
    "df.describe()"
   ]
  },
  {
   "cell_type": "code",
   "execution_count": 32,
   "metadata": {},
   "outputs": [],
   "source": [
    "df11 = df[(df.event_date >= pd.to_datetime(\"2019-11-01\")) & (df.event_date <= pd.to_datetime(\"2019-11-30\"))]"
   ]
  },
  {
   "cell_type": "code",
   "execution_count": 63,
   "metadata": {
    "scrolled": true
   },
   "outputs": [
    {
     "data": {
      "text/html": [
       "<div>\n",
       "<style scoped>\n",
       "    .dataframe tbody tr th:only-of-type {\n",
       "        vertical-align: middle;\n",
       "    }\n",
       "\n",
       "    .dataframe tbody tr th {\n",
       "        vertical-align: top;\n",
       "    }\n",
       "\n",
       "    .dataframe thead th {\n",
       "        text-align: right;\n",
       "    }\n",
       "</style>\n",
       "<table border=\"1\" class=\"dataframe\">\n",
       "  <thead>\n",
       "    <tr style=\"text-align: right;\">\n",
       "      <th></th>\n",
       "      <th></th>\n",
       "      <th>rev</th>\n",
       "    </tr>\n",
       "    <tr>\n",
       "      <th>advertising_id</th>\n",
       "      <th>event_date</th>\n",
       "      <th></th>\n",
       "    </tr>\n",
       "  </thead>\n",
       "  <tbody>\n",
       "    <tr>\n",
       "      <td rowspan=\"3\" valign=\"top\">008D6CD0-615F-4A96-9095-0C54A3544B15</td>\n",
       "      <td>2019-11-02</td>\n",
       "      <td>8.264356</td>\n",
       "    </tr>\n",
       "    <tr>\n",
       "      <td>2019-11-04</td>\n",
       "      <td>10.357554</td>\n",
       "    </tr>\n",
       "    <tr>\n",
       "      <td>2019-11-05</td>\n",
       "      <td>4.138876</td>\n",
       "    </tr>\n",
       "    <tr>\n",
       "      <td>01C4BFEA-6B8E-43DF-8EA7-367E056EEA41</td>\n",
       "      <td>2019-11-11</td>\n",
       "      <td>11.735929</td>\n",
       "    </tr>\n",
       "    <tr>\n",
       "      <td>01F0826D-26F8-4905-8164-EADAC611E7AC</td>\n",
       "      <td>2019-11-10</td>\n",
       "      <td>9.990000</td>\n",
       "    </tr>\n",
       "    <tr>\n",
       "      <td>...</td>\n",
       "      <td>...</td>\n",
       "      <td>...</td>\n",
       "    </tr>\n",
       "    <tr>\n",
       "      <td rowspan=\"5\" valign=\"top\">None</td>\n",
       "      <td>2019-11-26</td>\n",
       "      <td>55.205792</td>\n",
       "    </tr>\n",
       "    <tr>\n",
       "      <td>2019-11-27</td>\n",
       "      <td>43.941702</td>\n",
       "    </tr>\n",
       "    <tr>\n",
       "      <td>2019-11-28</td>\n",
       "      <td>161.486008</td>\n",
       "    </tr>\n",
       "    <tr>\n",
       "      <td>2019-11-29</td>\n",
       "      <td>1038.661959</td>\n",
       "    </tr>\n",
       "    <tr>\n",
       "      <td>2019-11-30</td>\n",
       "      <td>120421.982848</td>\n",
       "    </tr>\n",
       "  </tbody>\n",
       "</table>\n",
       "<p>636 rows × 1 columns</p>\n",
       "</div>"
      ],
      "text/plain": [
       "                                                           rev\n",
       "advertising_id                       event_date               \n",
       "008D6CD0-615F-4A96-9095-0C54A3544B15 2019-11-02       8.264356\n",
       "                                     2019-11-04      10.357554\n",
       "                                     2019-11-05       4.138876\n",
       "01C4BFEA-6B8E-43DF-8EA7-367E056EEA41 2019-11-11      11.735929\n",
       "01F0826D-26F8-4905-8164-EADAC611E7AC 2019-11-10       9.990000\n",
       "...                                                        ...\n",
       "None                                 2019-11-26      55.205792\n",
       "                                     2019-11-27      43.941702\n",
       "                                     2019-11-28     161.486008\n",
       "                                     2019-11-29    1038.661959\n",
       "                                     2019-11-30  120421.982848\n",
       "\n",
       "[636 rows x 1 columns]"
      ]
     },
     "execution_count": 63,
     "metadata": {},
     "output_type": "execute_result"
    }
   ],
   "source": [
    "df_cus = pd.DataFrame(df11.groupby([\"advertising_id\", \"event_date\"]).rev.sum())\n",
    "df_cus"
   ]
  },
  {
   "cell_type": "code",
   "execution_count": 64,
   "metadata": {},
   "outputs": [
    {
     "data": {
      "text/html": [
       "<div>\n",
       "<style scoped>\n",
       "    .dataframe tbody tr th:only-of-type {\n",
       "        vertical-align: middle;\n",
       "    }\n",
       "\n",
       "    .dataframe tbody tr th {\n",
       "        vertical-align: top;\n",
       "    }\n",
       "\n",
       "    .dataframe thead th {\n",
       "        text-align: right;\n",
       "    }\n",
       "</style>\n",
       "<table border=\"1\" class=\"dataframe\">\n",
       "  <thead>\n",
       "    <tr style=\"text-align: right;\">\n",
       "      <th></th>\n",
       "      <th></th>\n",
       "      <th>rev</th>\n",
       "    </tr>\n",
       "    <tr>\n",
       "      <th>advertising_id</th>\n",
       "      <th>event_date</th>\n",
       "      <th></th>\n",
       "    </tr>\n",
       "  </thead>\n",
       "  <tbody>\n",
       "    <tr>\n",
       "      <td>None</td>\n",
       "      <td>2019-11-30</td>\n",
       "      <td>120421.982848</td>\n",
       "    </tr>\n",
       "    <tr>\n",
       "      <td rowspan=\"2\" valign=\"top\">2044ED00-20BE-4FA2-A307-8832F1C60406</td>\n",
       "      <td>2019-11-24</td>\n",
       "      <td>19976.512654</td>\n",
       "    </tr>\n",
       "    <tr>\n",
       "      <td>2019-11-22</td>\n",
       "      <td>8621.873707</td>\n",
       "    </tr>\n",
       "    <tr>\n",
       "      <td>None</td>\n",
       "      <td>2019-11-01</td>\n",
       "      <td>7744.976510</td>\n",
       "    </tr>\n",
       "    <tr>\n",
       "      <td>2044ED00-20BE-4FA2-A307-8832F1C60406</td>\n",
       "      <td>2019-11-23</td>\n",
       "      <td>6092.039341</td>\n",
       "    </tr>\n",
       "    <tr>\n",
       "      <td>...</td>\n",
       "      <td>...</td>\n",
       "      <td>...</td>\n",
       "    </tr>\n",
       "    <tr>\n",
       "      <td>D328FA8F-A490-496B-8502-FABCF90FCC0B</td>\n",
       "      <td>2019-11-01</td>\n",
       "      <td>0.948194</td>\n",
       "    </tr>\n",
       "    <tr>\n",
       "      <td>7965BDCF-CEE4-4E88-BB29-E0B5C388DC3B</td>\n",
       "      <td>2019-11-17</td>\n",
       "      <td>0.948153</td>\n",
       "    </tr>\n",
       "    <tr>\n",
       "      <td>88F5C856-5E9B-46A0-B332-6BC3979FAE50</td>\n",
       "      <td>2019-11-30</td>\n",
       "      <td>0.948145</td>\n",
       "    </tr>\n",
       "    <tr>\n",
       "      <td>2500EB25-E369-4BF2-BFC3-6E12787BE232</td>\n",
       "      <td>2019-11-20</td>\n",
       "      <td>0.948072</td>\n",
       "    </tr>\n",
       "    <tr>\n",
       "      <td>58DC905E-0D25-4CBC-AB44-1201225EAD4C</td>\n",
       "      <td>2019-11-16</td>\n",
       "      <td>0.938588</td>\n",
       "    </tr>\n",
       "  </tbody>\n",
       "</table>\n",
       "<p>636 rows × 1 columns</p>\n",
       "</div>"
      ],
      "text/plain": [
       "                                                           rev\n",
       "advertising_id                       event_date               \n",
       "None                                 2019-11-30  120421.982848\n",
       "2044ED00-20BE-4FA2-A307-8832F1C60406 2019-11-24   19976.512654\n",
       "                                     2019-11-22    8621.873707\n",
       "None                                 2019-11-01    7744.976510\n",
       "2044ED00-20BE-4FA2-A307-8832F1C60406 2019-11-23    6092.039341\n",
       "...                                                        ...\n",
       "D328FA8F-A490-496B-8502-FABCF90FCC0B 2019-11-01       0.948194\n",
       "7965BDCF-CEE4-4E88-BB29-E0B5C388DC3B 2019-11-17       0.948153\n",
       "88F5C856-5E9B-46A0-B332-6BC3979FAE50 2019-11-30       0.948145\n",
       "2500EB25-E369-4BF2-BFC3-6E12787BE232 2019-11-20       0.948072\n",
       "58DC905E-0D25-4CBC-AB44-1201225EAD4C 2019-11-16       0.938588\n",
       "\n",
       "[636 rows x 1 columns]"
      ]
     },
     "execution_count": 64,
     "metadata": {},
     "output_type": "execute_result"
    }
   ],
   "source": [
    "df_cus.sort_values(by = \"rev\", ascending = False)"
   ]
  },
  {
   "cell_type": "code",
   "execution_count": 29,
   "metadata": {},
   "outputs": [
    {
     "data": {
      "text/plain": [
       "204780.04841999998"
      ]
     },
     "execution_count": 29,
     "metadata": {},
     "output_type": "execute_result"
    }
   ],
   "source": [
    "df11.rev.sum()"
   ]
  },
  {
   "cell_type": "code",
   "execution_count": 30,
   "metadata": {},
   "outputs": [
    {
     "data": {
      "text/plain": [
       "73909.21521499976"
      ]
     },
     "execution_count": 30,
     "metadata": {},
     "output_type": "execute_result"
    }
   ],
   "source": [
    "df_cus.rev.sum()"
   ]
  },
  {
   "cell_type": "code",
   "execution_count": 35,
   "metadata": {},
   "outputs": [
    {
     "data": {
      "text/plain": [
       "9952"
      ]
     },
     "execution_count": 35,
     "metadata": {},
     "output_type": "execute_result"
    }
   ],
   "source": [
    "73909 - 36168 - 27789"
   ]
  },
  {
   "cell_type": "code",
   "execution_count": 65,
   "metadata": {},
   "outputs": [
    {
     "data": {
      "text/plain": [
       "<matplotlib.axes._subplots.AxesSubplot at 0x1e9f13bd0c8>"
      ]
     },
     "execution_count": 65,
     "metadata": {},
     "output_type": "execute_result"
    },
    {
     "data": {
      "image/png": "[encoded data removed]",
      "text/plain": [
       "<Figure size 432x288 with 1 Axes>"
      ]
     },
     "metadata": {
      "needs_background": "light"
     },
     "output_type": "display_data"
    }
   ],
   "source": [
    "sns.distplot(df_cus.rev, kde = True)\n",
    "# sns.despine()"
   ]
  },
  {
   "cell_type": "code",
   "execution_count": 41,
   "metadata": {},
   "outputs": [
    {
     "name": "stdout",
     "output_type": "stream",
     "text": [
      "Skewness: 16.967650847248105\n",
      "Kurtosis: 306.2558381266613\n"
     ]
    }
   ],
   "source": [
    "print((\"Skewness: {}\").format(df_cus.rev.skew()))\n",
    "print((\"Kurtosis: {}\").format(df_cus.rev.kurt()))"
   ]
  },
  {
   "cell_type": "code",
   "execution_count": 44,
   "metadata": {},
   "outputs": [],
   "source": [
    "from sklearn.ensemble import IsolationForest"
   ]
  },
  {
   "cell_type": "code",
   "execution_count": 66,
   "metadata": {},
   "outputs": [
    {
     "data": {
      "text/plain": [
       "IsolationForest(behaviour='new', bootstrap=False, contamination='auto',\n",
       "                max_features=1.0, max_samples='auto', n_estimators=100,\n",
       "                n_jobs=None, random_state=None, verbose=0, warm_start=False)"
      ]
     },
     "execution_count": 66,
     "metadata": {},
     "output_type": "execute_result"
    }
   ],
   "source": [
    "iso = IsolationForest(behaviour = \"new\", contamination = \"auto\")\n",
    "iso.fit(df_cus[[\"rev\"]])"
   ]
  },
  {
   "cell_type": "code",
   "execution_count": 67,
   "metadata": {},
   "outputs": [
    {
     "data": {
      "image/png": "[encoded data removed]",
      "text/plain": [
       "<Figure size 720x288 with 1 Axes>"
      ]
     },
     "metadata": {
      "needs_background": "light"
     },
     "output_type": "display_data"
    }
   ],
   "source": [
    "xx = np.linspace(df_cus['rev'].min(), df_cus['rev'].max(), len(df_cus)).reshape(-1,1)\n",
    "anomaly_score = iso.decision_function(xx)\n",
    "outlier = iso.predict(xx)\n",
    "plt.figure(figsize=(10,4))\n",
    "plt.plot(xx, anomaly_score, label='anomaly score')\n",
    "plt.fill_between(xx.T[0], np.min(anomaly_score), np.max(anomaly_score), \n",
    "                 where=outlier==-1, color='r', \n",
    "                 alpha=.4, label='outlier region')\n",
    "plt.legend()\n",
    "plt.ylabel('anomaly score')\n",
    "plt.xlabel('Rev')\n",
    "plt.show()"
   ]
  },
  {
   "cell_type": "code",
   "execution_count": 68,
   "metadata": {
    "scrolled": true
   },
   "outputs": [
    {
     "data": {
      "text/plain": [
       "array([ 1, -1, -1, -1, -1, -1, -1, -1, -1, -1, -1, -1, -1, -1, -1, -1, -1,\n",
       "       -1, -1, -1, -1, -1, -1, -1, -1, -1, -1, -1, -1, -1, -1, -1, -1, -1,\n",
       "       -1, -1, -1, -1, -1, -1, -1, -1, -1, -1, -1, -1, -1, -1, -1, -1, -1,\n",
       "       -1, -1, -1, -1, -1, -1, -1, -1, -1, -1, -1, -1, -1, -1, -1, -1, -1,\n",
       "       -1, -1, -1, -1, -1, -1, -1, -1, -1, -1, -1, -1, -1, -1, -1, -1, -1,\n",
       "       -1, -1, -1, -1, -1, -1, -1, -1, -1, -1, -1, -1, -1, -1, -1, -1, -1,\n",
       "       -1, -1, -1, -1, -1, -1, -1, -1, -1, -1, -1, -1, -1, -1, -1, -1, -1,\n",
       "       -1, -1, -1, -1, -1, -1, -1, -1, -1, -1, -1, -1, -1, -1, -1, -1, -1,\n",
       "       -1, -1, -1, -1, -1, -1, -1, -1, -1, -1, -1, -1, -1, -1, -1, -1, -1,\n",
       "       -1, -1, -1, -1, -1, -1, -1, -1, -1, -1, -1, -1, -1, -1, -1, -1, -1,\n",
       "       -1, -1, -1, -1, -1, -1, -1, -1, -1, -1, -1, -1, -1, -1, -1, -1, -1,\n",
       "       -1, -1, -1, -1, -1, -1, -1, -1, -1, -1, -1, -1, -1, -1, -1, -1, -1,\n",
       "       -1, -1, -1, -1, -1, -1, -1, -1, -1, -1, -1, -1, -1, -1, -1, -1, -1,\n",
       "       -1, -1, -1, -1, -1, -1, -1, -1, -1, -1, -1, -1, -1, -1, -1, -1, -1,\n",
       "       -1, -1, -1, -1, -1, -1, -1, -1, -1, -1, -1, -1, -1, -1, -1, -1, -1,\n",
       "       -1, -1, -1, -1, -1, -1, -1, -1, -1, -1, -1, -1, -1, -1, -1, -1, -1,\n",
       "       -1, -1, -1, -1, -1, -1, -1, -1, -1, -1, -1, -1, -1, -1, -1, -1, -1,\n",
       "       -1, -1, -1, -1, -1, -1, -1, -1, -1, -1, -1, -1, -1, -1, -1, -1, -1,\n",
       "       -1, -1, -1, -1, -1, -1, -1, -1, -1, -1, -1, -1, -1, -1, -1, -1, -1,\n",
       "       -1, -1, -1, -1, -1, -1, -1, -1, -1, -1, -1, -1, -1, -1, -1, -1, -1,\n",
       "       -1, -1, -1, -1, -1, -1, -1, -1, -1, -1, -1, -1, -1, -1, -1, -1, -1,\n",
       "       -1, -1, -1, -1, -1, -1, -1, -1, -1, -1, -1, -1, -1, -1, -1, -1, -1,\n",
       "       -1, -1, -1, -1, -1, -1, -1, -1, -1, -1, -1, -1, -1, -1, -1, -1, -1,\n",
       "       -1, -1, -1, -1, -1, -1, -1, -1, -1, -1, -1, -1, -1, -1, -1, -1, -1,\n",
       "       -1, -1, -1, -1, -1, -1, -1, -1, -1, -1, -1, -1, -1, -1, -1, -1, -1,\n",
       "       -1, -1, -1, -1, -1, -1, -1, -1, -1, -1, -1, -1, -1, -1, -1, -1, -1,\n",
       "       -1, -1, -1, -1, -1, -1, -1, -1, -1, -1, -1, -1, -1, -1, -1, -1, -1,\n",
       "       -1, -1, -1, -1, -1, -1, -1, -1, -1, -1, -1, -1, -1, -1, -1, -1, -1,\n",
       "       -1, -1, -1, -1, -1, -1, -1, -1, -1, -1, -1, -1, -1, -1, -1, -1, -1,\n",
       "       -1, -1, -1, -1, -1, -1, -1, -1, -1, -1, -1, -1, -1, -1, -1, -1, -1,\n",
       "       -1, -1, -1, -1, -1, -1, -1, -1, -1, -1, -1, -1, -1, -1, -1, -1, -1,\n",
       "       -1, -1, -1, -1, -1, -1, -1, -1, -1, -1, -1, -1, -1, -1, -1, -1, -1,\n",
       "       -1, -1, -1, -1, -1, -1, -1, -1, -1, -1, -1, -1, -1, -1, -1, -1, -1,\n",
       "       -1, -1, -1, -1, -1, -1, -1, -1, -1, -1, -1, -1, -1, -1, -1, -1, -1,\n",
       "       -1, -1, -1, -1, -1, -1, -1, -1, -1, -1, -1, -1, -1, -1, -1, -1, -1,\n",
       "       -1, -1, -1, -1, -1, -1, -1, -1, -1, -1, -1, -1, -1, -1, -1, -1, -1,\n",
       "       -1, -1, -1, -1, -1, -1, -1, -1, -1, -1, -1, -1, -1, -1, -1, -1, -1,\n",
       "       -1, -1, -1, -1, -1, -1, -1])"
      ]
     },
     "execution_count": 68,
     "metadata": {},
     "output_type": "execute_result"
    }
   ],
   "source": [
    "outlier"
   ]
  },
  {
   "cell_type": "code",
   "execution_count": 69,
   "metadata": {},
   "outputs": [
    {
     "data": {
      "text/plain": [
       "array([ 0.0634639 , -0.11748901, -0.18429481, -0.20497239, -0.22074652,\n",
       "       -0.22172247, -0.22957783, -0.23951738, -0.24554599, -0.24807239,\n",
       "       -0.25111537, -0.2485787 , -0.25111537, -0.25468117, -0.25775104,\n",
       "       -0.26134834, -0.26186363, -0.26134834, -0.26134834, -0.26496272,\n",
       "       -0.26496272, -0.26755492, -0.27172072, -0.2727657 , -0.27433582,\n",
       "       -0.27853842, -0.28064827, -0.28276383, -0.28807786, -0.29128358,\n",
       "       -0.29342797, -0.29557817, -0.29827411, -0.2988144 , -0.29989606,\n",
       "       -0.30097919, -0.30369344, -0.30805538, -0.31024521, -0.3096972 ,\n",
       "       -0.31134236, -0.31244099, -0.3168504 , -0.31795649, -0.32072827,\n",
       "       -0.32072827, -0.32072827, -0.32128375, -0.32128375, -0.32128375,\n",
       "       -0.3218396 , -0.3218396 , -0.32350943, -0.3240668 , -0.3240668 ,\n",
       "       -0.32630003, -0.32630003, -0.32741891, -0.32853931, -0.32853931,\n",
       "       -0.32853931, -0.32853931, -0.33022275, -0.33022275, -0.3330361 ,\n",
       "       -0.3330361 , -0.3330361 , -0.3330361 , -0.3330361 , -0.3330361 ,\n",
       "       -0.33529363, -0.33529363, -0.33642469, -0.33755729, -0.33755729,\n",
       "       -0.33755729, -0.33755729, -0.33812416, -0.33812416, -0.33869141,\n",
       "       -0.33869141, -0.33982708, -0.34039548, -0.34039548, -0.34210302,\n",
       "       -0.34210302, -0.34210302, -0.34210302, -0.34381402, -0.34381402,\n",
       "       -0.3455285 , -0.34610076, -0.34667342, -0.34667342, -0.34839371,\n",
       "       -0.34954251, -0.34954251, -0.34954251, -0.34954251, -0.34954251,\n",
       "       -0.35069286, -0.35184478, -0.35242132, -0.35299825, -0.35473139,\n",
       "       -0.35473139, -0.35473139, -0.35473139, -0.35473139, -0.35588877,\n",
       "       -0.35588877, -0.35588877, -0.35588877, -0.35646805, -0.35646805,\n",
       "       -0.35762778, -0.35878909, -0.35878909, -0.35878909, -0.35878909,\n",
       "       -0.35878909, -0.35878909, -0.35878909, -0.35878909, -0.35878909,\n",
       "       -0.35937033, -0.35937033, -0.35937033, -0.35937033, -0.35937033,\n",
       "       -0.35937033, -0.35937033, -0.35937033, -0.35937033, -0.35937033,\n",
       "       -0.35937033, -0.35937033, -0.35937033, -0.35937033, -0.35937033,\n",
       "       -0.35937033, -0.35937033, -0.35937033, -0.35937033, -0.35937033,\n",
       "       -0.35937033, -0.36053399, -0.36053399, -0.36053399, -0.36053399,\n",
       "       -0.36053399, -0.36111641, -0.36111641, -0.36111641, -0.36111641,\n",
       "       -0.36111641, -0.36111641, -0.36111641, -0.36111641, -0.36111641,\n",
       "       -0.36111641, -0.36111641, -0.36111641, -0.36111641, -0.36111641,\n",
       "       -0.36111641, -0.36111641, -0.36111641, -0.36111641, -0.36345005,\n",
       "       -0.36345005, -0.36345005, -0.36345005, -0.36345005, -0.36345005,\n",
       "       -0.36345005, -0.36345005, -0.36345005, -0.36345005, -0.36345005,\n",
       "       -0.36345005, -0.36345005, -0.36345005, -0.36345005, -0.36345005,\n",
       "       -0.36345005, -0.36403445, -0.36403445, -0.36403445, -0.36403445,\n",
       "       -0.36403445, -0.36403445, -0.36403445, -0.36403445, -0.36403445,\n",
       "       -0.36403445, -0.36403445, -0.36403445, -0.36403445, -0.36403445,\n",
       "       -0.36403445, -0.36403445, -0.36403445, -0.36403445, -0.36403445,\n",
       "       -0.36403445, -0.36403445, -0.36403445, -0.36403445, -0.36403445,\n",
       "       -0.36403445, -0.36403445, -0.36403445, -0.36403445, -0.36403445,\n",
       "       -0.36403445, -0.36403445, -0.36403445, -0.36403445, -0.36403445,\n",
       "       -0.36403445, -0.36403445, -0.36403445, -0.36403445, -0.36403445,\n",
       "       -0.36520442, -0.36520442, -0.36520442, -0.36520442, -0.36520442,\n",
       "       -0.36520442, -0.36520442, -0.36520442, -0.36520442, -0.36520442,\n",
       "       -0.36520442, -0.36520442, -0.36520442, -0.36520442, -0.36520442,\n",
       "       -0.36637599, -0.36637599, -0.36637599, -0.36637599, -0.36637599,\n",
       "       -0.36637599, -0.36637599, -0.36637599, -0.36637599, -0.36637599,\n",
       "       -0.36637599, -0.36637599, -0.36637599, -0.36696236, -0.36696236,\n",
       "       -0.36696236, -0.36696236, -0.36696236, -0.36696236, -0.36696236,\n",
       "       -0.36696236, -0.36696236, -0.36696236, -0.36696236, -0.36696236,\n",
       "       -0.36696236, -0.36696236, -0.36696236, -0.36696236, -0.36696236,\n",
       "       -0.36696236, -0.36696236, -0.36696236, -0.36696236, -0.36754914,\n",
       "       -0.36754914, -0.36813631, -0.36813631, -0.36813631, -0.36813631,\n",
       "       -0.36813631, -0.36813631, -0.36813631, -0.36813631, -0.36813631,\n",
       "       -0.36813631, -0.36813631, -0.36813631, -0.36813631, -0.36813631,\n",
       "       -0.36813631, -0.36813631, -0.36813631, -0.36813631, -0.36813631,\n",
       "       -0.36872388, -0.36872388, -0.36931184, -0.36931184, -0.36931184,\n",
       "       -0.36931184, -0.36931184, -0.36931184, -0.36931184, -0.36931184,\n",
       "       -0.36931184, -0.36931184, -0.36931184, -0.36931184, -0.36931184,\n",
       "       -0.36931184, -0.3699002 , -0.3699002 , -0.3699002 , -0.3699002 ,\n",
       "       -0.37048897, -0.37048897, -0.37048897, -0.37048897, -0.37048897,\n",
       "       -0.37048897, -0.37048897, -0.37048897, -0.37166769, -0.37166769,\n",
       "       -0.37166769, -0.37166769, -0.37166769, -0.37166769, -0.37166769,\n",
       "       -0.37166769, -0.37166769, -0.37166769, -0.37166769, -0.37166769,\n",
       "       -0.37166769, -0.37166769, -0.37166769, -0.37166769, -0.37166769,\n",
       "       -0.37166769, -0.37166769, -0.37166769, -0.37166769, -0.37166769,\n",
       "       -0.37225764, -0.37225764, -0.372848  , -0.372848  , -0.372848  ,\n",
       "       -0.372848  , -0.372848  , -0.372848  , -0.372848  , -0.372848  ,\n",
       "       -0.372848  , -0.372848  , -0.372848  , -0.37343876, -0.37343876,\n",
       "       -0.37343876, -0.37343876, -0.37343876, -0.37462147, -0.37462147,\n",
       "       -0.37462147, -0.37462147, -0.37462147, -0.37462147, -0.37462147,\n",
       "       -0.37462147, -0.37462147, -0.37462147, -0.37521343, -0.3769917 ,\n",
       "       -0.3769917 , -0.3769917 , -0.3769917 , -0.3769917 , -0.3769917 ,\n",
       "       -0.3769917 , -0.3769917 , -0.3769917 , -0.3769917 , -0.37817923,\n",
       "       -0.37817923, -0.37817923, -0.37877359, -0.37877359, -0.37877359,\n",
       "       -0.37877359, -0.37877359, -0.37877359, -0.37877359, -0.37877359,\n",
       "       -0.37996353, -0.37996353, -0.37996353, -0.37996353, -0.37996353,\n",
       "       -0.37996353, -0.37996353, -0.37996353, -0.37996353, -0.37996353,\n",
       "       -0.37996353, -0.37996353, -0.37996353, -0.37996353, -0.37996353,\n",
       "       -0.37996353, -0.37996353, -0.38115508, -0.38115508, -0.38115508,\n",
       "       -0.38115508, -0.38115508, -0.38115508, -0.38115508, -0.38294543,\n",
       "       -0.38294543, -0.38473942, -0.38473942, -0.38473942, -0.38473942,\n",
       "       -0.38473942, -0.38473942, -0.38473942, -0.38473942, -0.38473942,\n",
       "       -0.38473942, -0.38653705, -0.38653705, -0.38653705, -0.38653705,\n",
       "       -0.38653705, -0.38653705, -0.38653705, -0.38653705, -0.38713707,\n",
       "       -0.38713707, -0.38713707, -0.38713707, -0.38713707, -0.38713707,\n",
       "       -0.38713707, -0.38713707, -0.38713707, -0.38713707, -0.38713707,\n",
       "       -0.38713707, -0.38713707, -0.38713707, -0.38713707, -0.38713707,\n",
       "       -0.38713707, -0.38713707, -0.38713707, -0.38713707, -0.38713707,\n",
       "       -0.38713707, -0.38713707, -0.38713707, -0.38713707, -0.38713707,\n",
       "       -0.38713707, -0.38713707, -0.38713707, -0.38713707, -0.38713707,\n",
       "       -0.38713707, -0.38713707, -0.38713707, -0.38713707, -0.38713707,\n",
       "       -0.38713707, -0.38713707, -0.38713707, -0.38713707, -0.38713707,\n",
       "       -0.38713707, -0.38713707, -0.38713707, -0.38713707, -0.38713707,\n",
       "       -0.38713707, -0.38713707, -0.38713707, -0.38713707, -0.38713707,\n",
       "       -0.38713707, -0.38713707, -0.38713707, -0.38713707, -0.38713707,\n",
       "       -0.38713707, -0.38713707, -0.38713707, -0.38833833, -0.38833833,\n",
       "       -0.38833833, -0.38833833, -0.38833833, -0.38833833, -0.38833833,\n",
       "       -0.38833833, -0.38833833, -0.38833833, -0.38833833, -0.38833833,\n",
       "       -0.38833833, -0.38893957, -0.38893957, -0.38893957, -0.39014327,\n",
       "       -0.39014327, -0.39014327, -0.39014327, -0.39014327, -0.39014327,\n",
       "       -0.39074574, -0.39074574, -0.39134861, -0.39134861, -0.39134861,\n",
       "       -0.39134861, -0.39134861, -0.39134861, -0.39134861, -0.39134861,\n",
       "       -0.39134861, -0.39134861, -0.39134861, -0.39134861, -0.39255557,\n",
       "       -0.39255557, -0.39255557, -0.39255557, -0.39255557, -0.39255557,\n",
       "       -0.39255557, -0.39255557, -0.39255557, -0.39255557, -0.39255557,\n",
       "       -0.39255557, -0.39255557, -0.39255557, -0.39255557, -0.39255557,\n",
       "       -0.39255557, -0.39255557, -0.39255557, -0.39255557, -0.39255557,\n",
       "       -0.39315967, -0.39315967, -0.39315967, -0.39315967, -0.39315967,\n",
       "       -0.39315967, -0.39315967, -0.39315967, -0.39315967, -0.39315967,\n",
       "       -0.39315967, -0.39315967, -0.39315967, -0.39315967, -0.39315967,\n",
       "       -0.39436909, -0.39436909, -0.39436909, -0.39558014, -0.39558014,\n",
       "       -0.39558014, -0.39558014, -0.39558014, -0.39558014, -0.39679284,\n",
       "       -0.39679284, -0.39679284, -0.39679284, -0.39679284, -0.39679284,\n",
       "       -0.39679284, -0.39679284, -0.39679284, -0.39679284, -0.39679284,\n",
       "       -0.39679284, -0.39679284, -0.39679284, -0.39679284, -0.39679284,\n",
       "       -0.39679284, -0.39679284, -0.39679284, -0.39679284, -0.39679284,\n",
       "       -0.39679284, -0.39679284, -0.39679284, -0.39679284, -0.39679284,\n",
       "       -0.39679284, -0.39679284, -0.39679284, -0.39679284, -0.39679284,\n",
       "       -0.39679284, -0.39679284, -0.39679284, -0.39679284, -0.39679284,\n",
       "       -0.39679284, -0.39679284, -0.39679284, -0.39679284, -0.39679284,\n",
       "       -0.39679284, -0.39679284, -0.39679284, -0.39679284, -0.39679284,\n",
       "       -0.39679284, -0.39679284, -0.39679284, -0.39679284, -0.39679284,\n",
       "       -0.39679284, -0.39679284, -0.39679284, -0.39679284, -0.39679284,\n",
       "       -0.39679284])"
      ]
     },
     "execution_count": 69,
     "metadata": {},
     "output_type": "execute_result"
    }
   ],
   "source": [
    "anomaly_score"
   ]
  }
 ],
 "metadata": {
  "kernelspec": {
   "display_name": "Python 3",
   "language": "python",
   "name": "python3"
  },
  "language_info": {
   "codemirror_mode": {
    "name": "ipython",
    "version": 3
   },
   "file_extension": ".py",
   "mimetype": "text/x-python",
   "name": "python",
   "nbconvert_exporter": "python",
   "pygments_lexer": "ipython3",
   "version": "3.7.4"
  }
 },
 "nbformat": 4,
 "nbformat_minor": 2
}
